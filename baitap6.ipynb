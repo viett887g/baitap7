{
  "nbformat": 4,
  "nbformat_minor": 0,
  "metadata": {
    "colab": {
      "name": "baitap6.ipynb",
      "provenance": [],
      "authorship_tag": "ABX9TyMeGhVxjMgjznFLWaSJReEO",
      "include_colab_link": true
    },
    "kernelspec": {
      "name": "python3",
      "display_name": "Python 3"
    },
    "language_info": {
      "name": "python"
    }
  },
  "cells": [
    {
      "cell_type": "markdown",
      "metadata": {
        "id": "view-in-github",
        "colab_type": "text"
      },
      "source": [
        "<a href=\"https://colab.research.google.com/github/viett887g/baitap7/blob/main/baitap6.ipynb\" target=\"_parent\"><img src=\"https://colab.research.google.com/assets/colab-badge.svg\" alt=\"Open In Colab\"/></a>"
      ]
    },
    {
      "cell_type": "code",
      "metadata": {
        "colab": {
          "base_uri": "https://localhost:8080/"
        },
        "id": "vx8sORUlEpah",
        "outputId": "938e7ab2-7818-49d0-d652-dfef68550799"
      },
      "source": [
        "a = input(\"a=\")\n",
        "b= input(\"b=\")\n",
        "a = int(a)\n",
        "b= int(b)\n",
        "c=a+b\n",
        "print(\"a+b\",c)\n",
        "d=a-b\n",
        "print(\"a-b\",d)\n",
        "e=a//b\n",
        "print(\"a//b\",e)\n",
        "f=a%b\n",
        "print(\"a%b\",f)"
      ],
      "execution_count": 3,
      "outputs": [
        {
          "output_type": "stream",
          "name": "stdout",
          "text": [
            "a=4\n",
            "b=3\n",
            "a+b 7\n",
            "a-b 1\n",
            "a//b 1\n",
            "a%b 1\n"
          ]
        }
      ]
    },
    {
      "cell_type": "code",
      "metadata": {
        "id": "3ZhIuBRTISB8"
      },
      "source": [
        ""
      ],
      "execution_count": null,
      "outputs": []
    },
    {
      "cell_type": "code",
      "metadata": {
        "colab": {
          "base_uri": "https://localhost:8080/"
        },
        "id": "8yByavBgGGHY",
        "outputId": "829b2d7a-bdb0-4749-aa37-3ffb92a4f2e4"
      },
      "source": [
        "a = input(\"a=\")\n",
        "b = input(\"b=\")\n",
        "if (a>b):\n",
        "  print(\"a>b\") \n",
        "elif (b>a):\n",
        "  print(b>a)"
      ],
      "execution_count": 9,
      "outputs": [
        {
          "output_type": "stream",
          "name": "stdout",
          "text": [
            "a=4\n",
            "b=2\n",
            "a>b\n"
          ]
        }
      ]
    }
  ]
}